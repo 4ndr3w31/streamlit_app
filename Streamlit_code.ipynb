{
 "cells": [
  {
   "cell_type": "code",
   "execution_count": null,
   "id": "e3b79a90",
   "metadata": {},
   "outputs": [],
   "source": [
    "import streamlit as st\n",
    "import joblib \n",
    "import numpy as np\n",
    "\n",
    "model = joblib.load('ModelDep.pkl')\n",
    "\n",
    "def main():\n",
    "    st.title('Machine Learning Model Deployment')\n",
    "    \n",
    "    #Add user input components for 5 features\n",
    "    sepal_length = st.slider('sepal_length', min_value = 0.0,max_value =10.0,value =0.1)\n",
    "    sepal_width = st.slider('sepal_width', min_value = 0.0,max_value =10.0,value =0.1)\n",
    "    petal_length = st.slider('patal_length', min_value = 0.0,max_value =10.0,value =0.1)\n",
    "    petal_width = st.slider('patal_width', min_value = 0.0,max_value =10.0,value =0.1)\n",
    "    \n",
    "    if st.button('Make Prediction'):\n",
    "        features = [sepal_length,sepal_width,petal_length,petal_width]\n",
    "        result = make_prediction(features)\n",
    "        st.success(f'The prediction is: {result}')\n",
    "        \n",
    "    def make_prediction(features):\n",
    "        #use the loaded model to make predictions\n",
    "        input_array = np.array(features).reshape(1,-1)\n",
    "        prediction = model.predict(input_array)\n",
    "        return prediction[0]\n",
    "    \n",
    "    if _name_ == '_main_':\n",
    "        main()"
   ]
  },
  {
   "cell_type": "code",
   "execution_count": null,
   "id": "b6604020",
   "metadata": {},
   "outputs": [],
   "source": []
  }
 ],
 "metadata": {
  "kernelspec": {
   "display_name": "Python 3",
   "language": "python",
   "name": "python3"
  },
  "language_info": {
   "codemirror_mode": {
    "name": "ipython",
    "version": 3
   },
   "file_extension": ".py",
   "mimetype": "text/x-python",
   "name": "python",
   "nbconvert_exporter": "python",
   "pygments_lexer": "ipython3",
   "version": "3.8.8"
  }
 },
 "nbformat": 4,
 "nbformat_minor": 5
}
